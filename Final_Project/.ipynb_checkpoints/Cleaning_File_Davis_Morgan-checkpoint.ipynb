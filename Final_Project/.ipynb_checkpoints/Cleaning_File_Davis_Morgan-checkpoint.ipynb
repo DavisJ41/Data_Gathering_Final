{
 "cells": [
  {
   "cell_type": "code",
   "execution_count": 50,
   "id": "317e97a0-fbb7-49b5-bfe2-85f01577ab61",
   "metadata": {},
   "outputs": [],
   "source": [
    "# Loading libraries\n",
    "import pandas as pd # Reads, writes, shapes, manipulates data\n",
    "import numpy as np # Basic stats and numerical operations"
   ]
  },
  {
   "cell_type": "code",
   "execution_count": 51,
   "id": "1ed9b664-4a42-4f9e-8829-c431349b8772",
   "metadata": {},
   "outputs": [],
   "source": [
    "# Load the Brooks shoes CSV file as a dataframe\n",
    "shoes_df = pd.read_csv(\"BrooksShoes.csv\")"
   ]
  },
  {
   "cell_type": "code",
   "execution_count": 52,
   "id": "f0a359b9-2c00-48db-8d07-d351f084bda1",
   "metadata": {},
   "outputs": [
    {
     "name": "stdout",
     "output_type": "stream",
     "text": [
      "<class 'pandas.core.frame.DataFrame'>\n",
      "RangeIndex: 50 entries, 0 to 49\n",
      "Data columns (total 24 columns):\n",
      " #   Column                 Non-Null Count  Dtype  \n",
      "---  ------                 --------------  -----  \n",
      " 0   Name                   50 non-null     object \n",
      " 1   Type                   50 non-null     object \n",
      " 2   Price                  50 non-null     float64\n",
      " 3   Support                50 non-null     object \n",
      " 4   Experience             50 non-null     object \n",
      " 5   Surface                50 non-null     object \n",
      " 6   Midsole Drop(mm)       48 non-null     float64\n",
      " 7   Weight(g)              50 non-null     float64\n",
      " 8   High Arch              39 non-null     object \n",
      " 9   Medium Arch            50 non-null     object \n",
      " 10  Flat Arch              16 non-null     object \n",
      " 11  Segmented Crash Pad    3 non-null      object \n",
      " 12  DNA LOFT               8 non-null      object \n",
      " 13  BioMoGo DNA            34 non-null     object \n",
      " 14  3D Fit Print           6 non-null      object \n",
      " 15  DNA AMP                7 non-null      object \n",
      " 16  GuideRails             10 non-null     object \n",
      " 17  DNA Midsole            6 non-null      object \n",
      " 18  Ballistic Rock Shield  4 non-null      object \n",
      " 19  Gore-Tex               2 non-null      object \n",
      " 20  DNA Flash              3 non-null      object \n",
      " 21  Rapid Roll             1 non-null      object \n",
      " 22  DNA ZERO               1 non-null      object \n",
      " 23  Super DNA              1 non-null      object \n",
      "dtypes: float64(3), object(21)\n",
      "memory usage: 9.5+ KB\n"
     ]
    }
   ],
   "source": [
    "# Printing a summary of the dataframe\n",
    "shoes_df.info()"
   ]
  },
  {
   "cell_type": "code",
   "execution_count": 53,
   "id": "261fc437-b584-4036-9d2b-f46e54dc9e49",
   "metadata": {},
   "outputs": [],
   "source": [
    "# Dropping unnecessary columns\n",
    "shoes_df = shoes_df.drop(columns = ['Segmented Crash Pad', 'DNA LOFT', 'BioMoGo DNA', '3D Fit Print', 'DNA AMP', 'GuideRails', 'DNA Midsole', 'Ballistic Rock Shield', 'Gore-Tex', 'DNA Flash', 'Rapid Roll', 'DNA ZERO', 'Super DNA'])"
   ]
  },
  {
   "cell_type": "code",
   "execution_count": 54,
   "id": "b0d2930f-06bb-4852-b8e2-9a3d0abaa7aa",
   "metadata": {},
   "outputs": [
    {
     "name": "stdout",
     "output_type": "stream",
     "text": [
      "<class 'pandas.core.frame.DataFrame'>\n",
      "RangeIndex: 50 entries, 0 to 49\n",
      "Data columns (total 11 columns):\n",
      " #   Column            Non-Null Count  Dtype  \n",
      "---  ------            --------------  -----  \n",
      " 0   Name              50 non-null     object \n",
      " 1   Type              50 non-null     object \n",
      " 2   Price             50 non-null     float64\n",
      " 3   Support           50 non-null     object \n",
      " 4   Experience        50 non-null     object \n",
      " 5   Surface           50 non-null     object \n",
      " 6   Midsole Drop(mm)  48 non-null     float64\n",
      " 7   Weight(g)         50 non-null     float64\n",
      " 8   High Arch         39 non-null     object \n",
      " 9   Medium Arch       50 non-null     object \n",
      " 10  Flat Arch         16 non-null     object \n",
      "dtypes: float64(3), object(8)\n",
      "memory usage: 4.4+ KB\n"
     ]
    }
   ],
   "source": [
    "# Checking to see it worked\n",
    "shoes_df.info()"
   ]
  },
  {
   "cell_type": "code",
   "execution_count": 55,
   "id": "30531e62-41a3-454b-a867-682011b45262",
   "metadata": {},
   "outputs": [],
   "source": [
    "# Renaming columns\n",
    "shoes_df = shoes_df.rename(columns={\"Name\": \"name\", \"Type\": \"gender\", \"Price\": \"price\", \"Support\": \"support\", \"Experience\": \"experience\", \"Surface\": \"surface\", \"Midsole Drop(mm)\": \"midsole_drop_mm\", \"Weight(g)\": \"weight_g\", \"High Arch\": \"high_arch\", \"Medium Arch\": \"medium_arch\", \"Flat Arch\": \"flat_arch\"})"
   ]
  },
  {
   "cell_type": "code",
   "execution_count": 56,
   "id": "a154b632-ec23-49de-8cf2-1beb295c2889",
   "metadata": {},
   "outputs": [
    {
     "name": "stdout",
     "output_type": "stream",
     "text": [
      "<class 'pandas.core.frame.DataFrame'>\n",
      "RangeIndex: 50 entries, 0 to 49\n",
      "Data columns (total 11 columns):\n",
      " #   Column           Non-Null Count  Dtype  \n",
      "---  ------           --------------  -----  \n",
      " 0   name             50 non-null     object \n",
      " 1   gender           50 non-null     object \n",
      " 2   price            50 non-null     float64\n",
      " 3   support          50 non-null     object \n",
      " 4   experience       50 non-null     object \n",
      " 5   surface          50 non-null     object \n",
      " 6   midsole_drop_mm  48 non-null     float64\n",
      " 7   weight_g         50 non-null     float64\n",
      " 8   high_arch        39 non-null     object \n",
      " 9   medium_arch      50 non-null     object \n",
      " 10  flat_arch        16 non-null     object \n",
      "dtypes: float64(3), object(8)\n",
      "memory usage: 4.4+ KB\n"
     ]
    }
   ],
   "source": [
    "# Checking to see it worked\n",
    "shoes_df.info()"
   ]
  },
  {
   "cell_type": "code",
   "execution_count": 57,
   "id": "f5472040-b5e2-4f58-84d8-8b82766940c5",
   "metadata": {},
   "outputs": [
    {
     "data": {
      "text/plain": [
       "name                0\n",
       "gender              0\n",
       "price               0\n",
       "support             0\n",
       "experience          0\n",
       "surface             0\n",
       "midsole_drop_mm     2\n",
       "weight_g            0\n",
       "high_arch          11\n",
       "medium_arch         0\n",
       "flat_arch          34\n",
       "dtype: int64"
      ]
     },
     "execution_count": 57,
     "metadata": {},
     "output_type": "execute_result"
    }
   ],
   "source": [
    "# Finding number of NA values in each column\n",
    "shoes_df.isna().sum()"
   ]
  },
  {
   "cell_type": "code",
   "execution_count": 58,
   "id": "7a3bba4d-184c-4818-9913-f1807ab9baec",
   "metadata": {},
   "outputs": [],
   "source": [
    "# Filling in the two NA value's in the midsole drop column by looking up the correct numbers on the Brooks Running website\n",
    "shoes_df.loc[9, 'midsole_drop_mm'] = 6\n",
    "shoes_df.loc[39, 'midsole_drop_mm'] = 8"
   ]
  },
  {
   "cell_type": "code",
   "execution_count": 59,
   "id": "70238d40-a1fc-4bbc-b97f-79c921816004",
   "metadata": {},
   "outputs": [
    {
     "data": {
      "text/plain": [
       "name                0\n",
       "gender              0\n",
       "price               0\n",
       "support             0\n",
       "experience          0\n",
       "surface             0\n",
       "midsole_drop_mm     0\n",
       "weight_g            0\n",
       "high_arch          11\n",
       "medium_arch         0\n",
       "flat_arch          34\n",
       "dtype: int64"
      ]
     },
     "execution_count": 59,
     "metadata": {},
     "output_type": "execute_result"
    }
   ],
   "source": [
    "# Checking to see it worked\n",
    "shoes_df.isna().sum()"
   ]
  },
  {
   "cell_type": "code",
   "execution_count": 60,
   "id": "a9686635-2cba-435e-a305-aabcf3fd35de",
   "metadata": {},
   "outputs": [],
   "source": [
    "# Filling all remaining NA's with the value 'No' after they were left blank\n",
    "shoes_df = shoes_df.fillna('No')"
   ]
  },
  {
   "cell_type": "code",
   "execution_count": 61,
   "id": "178513ec-f490-4a95-a818-da0fda359474",
   "metadata": {},
   "outputs": [
    {
     "data": {
      "text/plain": [
       "name               0\n",
       "gender             0\n",
       "price              0\n",
       "support            0\n",
       "experience         0\n",
       "surface            0\n",
       "midsole_drop_mm    0\n",
       "weight_g           0\n",
       "high_arch          0\n",
       "medium_arch        0\n",
       "flat_arch          0\n",
       "dtype: int64"
      ]
     },
     "execution_count": 61,
     "metadata": {},
     "output_type": "execute_result"
    }
   ],
   "source": [
    "# Checking to see it worked\n",
    "shoes_df.isna().sum()"
   ]
  },
  {
   "cell_type": "code",
   "execution_count": 63,
   "id": "0854388f-e260-4bb3-8d86-d2fd15ce32c4",
   "metadata": {},
   "outputs": [],
   "source": [
    "# Change every 'Yes' string to True and every 'No' string to False\n",
    "columns = ['high_arch', 'medium_arch', 'flat_arch']\n",
    "for i in columns:\n",
    "    shoes_df[i] = shoes_df[i].replace({'Yes': True, 'No': False}).astype(bool) #added astype(bool) to get rid of the warning"
   ]
  },
  {
   "cell_type": "code",
   "execution_count": 64,
   "id": "01bed8cf-d6a1-40a5-8fa4-e16c4068e857",
   "metadata": {},
   "outputs": [
    {
     "name": "stdout",
     "output_type": "stream",
     "text": [
      "<class 'pandas.core.frame.DataFrame'>\n",
      "RangeIndex: 50 entries, 0 to 49\n",
      "Data columns (total 11 columns):\n",
      " #   Column           Non-Null Count  Dtype  \n",
      "---  ------           --------------  -----  \n",
      " 0   name             50 non-null     object \n",
      " 1   gender           50 non-null     object \n",
      " 2   price            50 non-null     float64\n",
      " 3   support          50 non-null     object \n",
      " 4   experience       50 non-null     object \n",
      " 5   surface          50 non-null     object \n",
      " 6   midsole_drop_mm  50 non-null     float64\n",
      " 7   weight_g         50 non-null     float64\n",
      " 8   high_arch        50 non-null     bool   \n",
      " 9   medium_arch      50 non-null     bool   \n",
      " 10  flat_arch        50 non-null     bool   \n",
      "dtypes: bool(3), float64(3), object(5)\n",
      "memory usage: 3.4+ KB\n"
     ]
    }
   ],
   "source": [
    "# Checking to see it worked\n",
    "shoes_df.info()"
   ]
  },
  {
   "cell_type": "code",
   "execution_count": 65,
   "id": "e1db6a39-7ca2-4593-bec8-01229098f163",
   "metadata": {},
   "outputs": [],
   "source": [
    "# Load the randomly generated customer CSV file as a dataframe\n",
    "customer_df = pd.read_csv(\"BrooksCustomers.csv\")"
   ]
  },
  {
   "cell_type": "code",
   "execution_count": 66,
   "id": "fba9ac47-0171-47cb-b336-28fe472888dd",
   "metadata": {},
   "outputs": [
    {
     "name": "stdout",
     "output_type": "stream",
     "text": [
      "<class 'pandas.core.frame.DataFrame'>\n",
      "RangeIndex: 500 entries, 0 to 499\n",
      "Data columns (total 6 columns):\n",
      " #   Column       Non-Null Count  Dtype \n",
      "---  ------       --------------  ----- \n",
      " 0   customer_id  500 non-null    int64 \n",
      " 1   price_range  500 non-null    int64 \n",
      " 2   support      500 non-null    object\n",
      " 3   run_type     500 non-null    object\n",
      " 4   arch_type    500 non-null    object\n",
      " 5   type         500 non-null    object\n",
      "dtypes: int64(2), object(4)\n",
      "memory usage: 23.6+ KB\n"
     ]
    }
   ],
   "source": [
    "# Printing a summary of the dataframe\n",
    "customer_df.info()"
   ]
  },
  {
   "cell_type": "code",
   "execution_count": 67,
   "id": "9677b308-9201-49a7-a23c-4590dd283b2a",
   "metadata": {},
   "outputs": [],
   "source": [
    "# Change every 'Yes' string to True and every 'No' string to False\n",
    "columns = ['run_type', 'arch_type']\n",
    "for i in columns:\n",
    "    customer_df[i] = customer_df[i].replace({'Highway': 'Road', 'Path': 'Trail', 'Low Arch': 'Flat Arch'})"
   ]
  },
  {
   "cell_type": "code",
   "execution_count": 68,
   "id": "37cae6bb-2573-43fe-9d28-5221ba0801ef",
   "metadata": {},
   "outputs": [],
   "source": [
    "# Renaming some columns\n",
    "customer_df = customer_df.rename(columns={'support': 'customer_support', 'type ': 'customer_gender'})"
   ]
  },
  {
   "cell_type": "code",
   "execution_count": 69,
   "id": "21112236-a029-4d0c-9740-deba2b049c96",
   "metadata": {},
   "outputs": [
    {
     "name": "stdout",
     "output_type": "stream",
     "text": [
      "<class 'pandas.core.frame.DataFrame'>\n",
      "RangeIndex: 500 entries, 0 to 499\n",
      "Data columns (total 6 columns):\n",
      " #   Column            Non-Null Count  Dtype \n",
      "---  ------            --------------  ----- \n",
      " 0   customer_id       500 non-null    int64 \n",
      " 1   price_range       500 non-null    int64 \n",
      " 2   customer_support  500 non-null    object\n",
      " 3   run_type          500 non-null    object\n",
      " 4   arch_type         500 non-null    object\n",
      " 5   customer_gender   500 non-null    object\n",
      "dtypes: int64(2), object(4)\n",
      "memory usage: 23.6+ KB\n"
     ]
    }
   ],
   "source": [
    "#checking the columns again \n",
    "customer_df.info()"
   ]
  },
  {
   "cell_type": "code",
   "execution_count": 71,
   "id": "7a241ee7-45fd-4855-b23e-f78ab6af6bb6",
   "metadata": {},
   "outputs": [],
   "source": [
    "# Saving new clean .csv files\n",
    "shoes_df.to_csv('clean_BrooksShoes.csv', index=False)\n",
    "customer_df.to_csv('clean_BrooksCustomers.csv', index=False)"
   ]
  },
  {
   "cell_type": "code",
   "execution_count": 72,
   "id": "b976e7da-4666-40d2-887d-d10301cd8797",
   "metadata": {},
   "outputs": [],
   "source": [
    "#creating dataframes for the new clean files\n",
    "clean_shoes = pd.read_csv('clean_BrooksShoes.csv')\n",
    "clean_customer = pd.read_csv('clean_BrooksCustomers.csv')"
   ]
  }
 ],
 "metadata": {
  "kernelspec": {
   "display_name": "Python 3 (ipykernel)",
   "language": "python",
   "name": "python3"
  },
  "language_info": {
   "codemirror_mode": {
    "name": "ipython",
    "version": 3
   },
   "file_extension": ".py",
   "mimetype": "text/x-python",
   "name": "python",
   "nbconvert_exporter": "python",
   "pygments_lexer": "ipython3",
   "version": "3.11.5"
  }
 },
 "nbformat": 4,
 "nbformat_minor": 5
}
